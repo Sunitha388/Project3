{
 "cells": [
  {
   "cell_type": "code",
   "execution_count": 1,
   "id": "81de961d",
   "metadata": {},
   "outputs": [
    {
     "name": "stdout",
     "output_type": "stream",
     "text": [
      "File saved as CSV.\n"
     ]
    }
   ],
   "source": [
    "import pandas as pd\n",
    "\n",
    "# Load the dataset\n",
    "file_path = r\"C:\\Users\\LENOVO\\Desktop\\Newfolder\\project3\\household_power_consumption_data.txt\"\n",
    "df = pd.read_csv(file_path, sep=';', low_memory=False, na_values='?')\n",
    "\n",
    "# Save to CSV\n",
    "csv_path = r\"C:\\Users\\LENOVO\\Desktop\\Newfolder\\project3\\household_power_consumption_data.csv\"\n",
    "df.to_csv(csv_path, index=False)\n",
    "print(\"File saved as CSV.\")\n"
   ]
  },
  {
   "cell_type": "code",
   "execution_count": 3,
   "id": "8fa95ef0",
   "metadata": {},
   "outputs": [
    {
     "name": "stdout",
     "output_type": "stream",
     "text": [
      "   Global_reactive_power  Voltage  Global_intensity  Sub_metering_1  \\\n",
      "0                  0.418   234.84              18.4             0.0   \n",
      "1                  0.436   233.63              23.0             0.0   \n",
      "2                  0.498   233.29              23.0             0.0   \n",
      "3                  0.502   233.74              23.0             0.0   \n",
      "4                  0.528   235.68              15.8             0.0   \n",
      "\n",
      "   Sub_metering_2  Sub_metering_3  \n",
      "0             1.0            17.0  \n",
      "1             1.0            16.0  \n",
      "2             2.0            17.0  \n",
      "3             1.0            17.0  \n",
      "4             1.0            17.0  \n"
     ]
    }
   ],
   "source": [
    "# Reload from CSV\n",
    "df = pd.read_csv(csv_path, low_memory=False)\n",
    "\n",
    "# Combine Date and Time into single datetime column\n",
    "df['Datetime'] = pd.to_datetime(df['Date'] + ' ' + df['Time'], format=\"%d/%m/%Y %H:%M:%S\", errors='coerce')\n",
    "df.drop(columns=['Date', 'Time'], inplace=True)\n",
    "\n",
    "# Drop rows with missing values\n",
    "\n",
    "df.dropna(inplace=True)\n",
    "\n",
    "\n",
    " #List of numeric columns to convert\n",
    "numeric_cols = ['Global_active_power', 'Global_reactive_power', 'Voltage',\n",
    "                'Global_intensity', 'Sub_metering_1', 'Sub_metering_2', 'Sub_metering_3']\n",
    "\n",
    "# Convert to float\n",
    "df[numeric_cols] = df[numeric_cols].astype(float)\n",
    "\n",
    "# Set datetime as index\n",
    "\n",
    "df.dropna(inplace=True)\n",
    "\n",
    "df = df.drop(columns=['Datetime'])\n",
    "\n",
    "\n",
    "# Set features (all columns except the target)\n",
    "X = df.drop(columns=['Global_active_power'])\n",
    "\n",
    "# Set target (what we want to predict)\n",
    "y = df['Global_active_power']\n",
    "\n",
    "\n",
    "\n",
    "\n",
    "print(X.head())   # first 5 rows of features"
   ]
  },
  {
   "cell_type": "code",
   "execution_count": 32,
   "id": "b86f7785",
   "metadata": {},
   "outputs": [
    {
     "name": "stdout",
     "output_type": "stream",
     "text": [
      "Index(['Global_active_power', 'Global_reactive_power', 'Voltage',\n",
      "       'Global_intensity', 'Sub_metering_1', 'Sub_metering_2',\n",
      "       'Sub_metering_3'],\n",
      "      dtype='object')\n"
     ]
    }
   ],
   "source": [
    "print(df.columns)\n"
   ]
  },
  {
   "cell_type": "code",
   "execution_count": 33,
   "id": "09626d5b",
   "metadata": {},
   "outputs": [
    {
     "name": "stdout",
     "output_type": "stream",
     "text": [
      "   Global_active_power  Global_reactive_power  Voltage  Global_intensity  \\\n",
      "0                4.216                  0.418   234.84              18.4   \n",
      "1                5.360                  0.436   233.63              23.0   \n",
      "2                5.374                  0.498   233.29              23.0   \n",
      "3                5.388                  0.502   233.74              23.0   \n",
      "4                3.666                  0.528   235.68              15.8   \n",
      "\n",
      "   Sub_metering_1  Sub_metering_2  Sub_metering_3  \n",
      "0             0.0             1.0            17.0  \n",
      "1             0.0             1.0            16.0  \n",
      "2             0.0             2.0            17.0  \n",
      "3             0.0             1.0            17.0  \n",
      "4             0.0             1.0            17.0  \n"
     ]
    }
   ],
   "source": [
    "print(df.head())   # shows first 5 rows by default\n"
   ]
  },
  {
   "cell_type": "code",
   "execution_count": 4,
   "id": "24a94280",
   "metadata": {},
   "outputs": [
    {
     "name": "stdout",
     "output_type": "stream",
     "text": [
      "0    4.216\n",
      "1    5.360\n",
      "2    5.374\n",
      "3    5.388\n",
      "4    3.666\n",
      "Name: Global_active_power, dtype: float64\n"
     ]
    }
   ],
   "source": [
    "print(y.head()) "
   ]
  },
  {
   "cell_type": "code",
   "execution_count": 5,
   "id": "a2dbb648",
   "metadata": {},
   "outputs": [
    {
     "name": "stdout",
     "output_type": "stream",
     "text": [
      "(2049280, 6)\n",
      "(2049280,)\n"
     ]
    }
   ],
   "source": [
    "print(X.shape)    # (rows, columns) what is to check\n",
    "print(y.shape)"
   ]
  },
  {
   "cell_type": "code",
   "execution_count": 6,
   "id": "530ea381",
   "metadata": {},
   "outputs": [
    {
     "name": "stdout",
     "output_type": "stream",
     "text": [
      "(2049280, 7)\n"
     ]
    }
   ],
   "source": [
    "\n",
    "print(df.shape)  # Number of rows and columns"
   ]
  },
  {
   "cell_type": "code",
   "execution_count": 7,
   "id": "e546b4a3",
   "metadata": {},
   "outputs": [
    {
     "name": "stdout",
     "output_type": "stream",
     "text": [
      "<class 'pandas.core.frame.DataFrame'>\n",
      "Index: 2049280 entries, 0 to 2075258\n",
      "Data columns (total 7 columns):\n",
      " #   Column                 Dtype  \n",
      "---  ------                 -----  \n",
      " 0   Global_active_power    float64\n",
      " 1   Global_reactive_power  float64\n",
      " 2   Voltage                float64\n",
      " 3   Global_intensity       float64\n",
      " 4   Sub_metering_1         float64\n",
      " 5   Sub_metering_2         float64\n",
      " 6   Sub_metering_3         float64\n",
      "dtypes: float64(7)\n",
      "memory usage: 125.1 MB\n",
      "None\n"
     ]
    }
   ],
   "source": [
    "print(df.info())"
   ]
  },
  {
   "cell_type": "code",
   "execution_count": 8,
   "id": "58407431",
   "metadata": {},
   "outputs": [
    {
     "name": "stdout",
     "output_type": "stream",
     "text": [
      "Global_active_power      float64\n",
      "Global_reactive_power    float64\n",
      "Voltage                  float64\n",
      "Global_intensity         float64\n",
      "Sub_metering_1           float64\n",
      "Sub_metering_2           float64\n",
      "Sub_metering_3           float64\n",
      "dtype: object\n"
     ]
    }
   ],
   "source": [
    "print(df.dtypes)"
   ]
  },
  {
   "cell_type": "code",
   "execution_count": 9,
   "id": "82e05b85",
   "metadata": {},
   "outputs": [
    {
     "name": "stdout",
     "output_type": "stream",
     "text": [
      "Global_active_power      0\n",
      "Global_reactive_power    0\n",
      "Voltage                  0\n",
      "Global_intensity         0\n",
      "Sub_metering_1           0\n",
      "Sub_metering_2           0\n",
      "Sub_metering_3           0\n",
      "dtype: int64\n"
     ]
    }
   ],
   "source": [
    "print(df.isnull().sum())  # Check for missing values in each column"
   ]
  },
  {
   "cell_type": "code",
   "execution_count": 10,
   "id": "2f7664dd",
   "metadata": {},
   "outputs": [
    {
     "name": "stdout",
     "output_type": "stream",
     "text": [
      "       Global_active_power  Global_reactive_power       Voltage  \\\n",
      "count         2.049280e+06           2.049280e+06  2.049280e+06   \n",
      "mean          1.091615e+00           1.237145e-01  2.408399e+02   \n",
      "std           1.057294e+00           1.127220e-01  3.239987e+00   \n",
      "min           7.600000e-02           0.000000e+00  2.232000e+02   \n",
      "25%           3.080000e-01           4.800000e-02  2.389900e+02   \n",
      "50%           6.020000e-01           1.000000e-01  2.410100e+02   \n",
      "75%           1.528000e+00           1.940000e-01  2.428900e+02   \n",
      "max           1.112200e+01           1.390000e+00  2.541500e+02   \n",
      "\n",
      "       Global_intensity  Sub_metering_1  Sub_metering_2  Sub_metering_3  \n",
      "count      2.049280e+06    2.049280e+06    2.049280e+06    2.049280e+06  \n",
      "mean       4.627759e+00    1.121923e+00    1.298520e+00    6.458447e+00  \n",
      "std        4.444396e+00    6.153031e+00    5.822026e+00    8.437154e+00  \n",
      "min        2.000000e-01    0.000000e+00    0.000000e+00    0.000000e+00  \n",
      "25%        1.400000e+00    0.000000e+00    0.000000e+00    0.000000e+00  \n",
      "50%        2.600000e+00    0.000000e+00    0.000000e+00    1.000000e+00  \n",
      "75%        6.400000e+00    0.000000e+00    1.000000e+00    1.700000e+01  \n",
      "max        4.840000e+01    8.800000e+01    8.000000e+01    3.100000e+01  \n"
     ]
    }
   ],
   "source": [
    "print(df.describe())"
   ]
  },
  {
   "cell_type": "code",
   "execution_count": 19,
   "id": "75f1840e",
   "metadata": {},
   "outputs": [
    {
     "data": {
      "text/plain": [
       "<Figure size 1000x600 with 0 Axes>"
      ]
     },
     "metadata": {},
     "output_type": "display_data"
    },
    {
     "data": {
      "image/png": "[encoded data removed]",
      "text/plain": [
       "<Figure size 1000x600 with 1 Axes>"
      ]
     },
     "metadata": {},
     "output_type": "display_data"
    }
   ],
   "source": [
    "import matplotlib.pyplot as plt\n",
    "\n",
    "# Select numeric columns\n",
    "columns_to_plot = ['Global_active_power', 'Global_reactive_power', 'Voltage', 'Global_intensity']\n",
    "\n",
    "# Plot using pandas built-in boxplot\n",
    "plt.figure(figsize=(10, 6))\n",
    "df[columns_to_plot].plot(kind='box', figsize=(10, 6), grid=True)\n",
    "plt.title('Boxplot of Power and Voltage Features')\n",
    "plt.ylabel('Values')\n",
    "plt.tight_layout()\n",
    "plt.show()\n"
   ]
  },
  {
   "cell_type": "code",
   "execution_count": 18,
   "id": "2bd8b388",
   "metadata": {},
   "outputs": [
    {
     "data": {
      "image/png": "[encoded data removed]",
      "text/plain": [
       "<Figure size 1200x900 with 2 Axes>"
      ]
     },
     "metadata": {},
     "output_type": "display_data"
    }
   ],
   "source": [
    "# Step 7: Correlation heatmap (only numeric columns)\n",
    "df_numeric = df.select_dtypes(include='number').dropna()\n",
    "plt.figure(figsize=(12, 9))\n",
    "sns.heatmap(df_numeric.corr(), annot=True, cmap='coolwarm', fmt='.2f')\n",
    "plt.title('Correlation Heatmap')\n",
    "plt.tight_layout()\n",
    "plt.show()"
   ]
  },
  {
   "cell_type": "code",
   "execution_count": 14,
   "id": "16a6e65a",
   "metadata": {},
   "outputs": [
    {
     "name": "stdout",
     "output_type": "stream",
     "text": [
      "Collecting scikit-learn\n",
      "  Downloading scikit_learn-1.7.0-cp312-cp312-win_amd64.whl.metadata (14 kB)\n",
      "Requirement already satisfied: numpy>=1.22.0 in c:\\users\\lenovo\\appdata\\local\\programs\\python\\python312\\lib\\site-packages (from scikit-learn) (2.2.4)\n",
      "Collecting scipy>=1.8.0 (from scikit-learn)\n",
      "  Downloading scipy-1.15.3-cp312-cp312-win_amd64.whl.metadata (60 kB)\n",
      "Collecting joblib>=1.2.0 (from scikit-learn)\n",
      "  Downloading joblib-1.5.1-py3-none-any.whl.metadata (5.6 kB)\n",
      "Collecting threadpoolctl>=3.1.0 (from scikit-learn)\n",
      "  Downloading threadpoolctl-3.6.0-py3-none-any.whl.metadata (13 kB)\n",
      "Downloading scikit_learn-1.7.0-cp312-cp312-win_amd64.whl (10.7 MB)\n",
      "   ---------------------------------------- 0.0/10.7 MB ? eta -:--:--\n",
      "   ------------- -------------------------- 3.7/10.7 MB 18.2 MB/s eta 0:00:01\n",
      "   ------------------------------ --------- 8.1/10.7 MB 20.2 MB/s eta 0:00:01\n",
      "   ---------------------------------------- 10.7/10.7 MB 18.5 MB/s eta 0:00:00\n",
      "Downloading joblib-1.5.1-py3-none-any.whl (307 kB)\n",
      "Downloading scipy-1.15.3-cp312-cp312-win_amd64.whl (41.0 MB)\n",
      "   ---------------------------------------- 0.0/41.0 MB ? eta -:--:--\n",
      "   ---- ----------------------------------- 4.7/41.0 MB 23.8 MB/s eta 0:00:02\n",
      "   --------- ------------------------------ 9.4/41.0 MB 23.5 MB/s eta 0:00:02\n",
      "   ------------- -------------------------- 13.9/41.0 MB 23.0 MB/s eta 0:00:02\n",
      "   ----------------- ---------------------- 18.4/41.0 MB 22.7 MB/s eta 0:00:01\n",
      "   --------------------- ------------------ 22.0/41.0 MB 21.4 MB/s eta 0:00:01\n",
      "   -------------------------- ------------- 27.5/41.0 MB 22.4 MB/s eta 0:00:01\n",
      "   ------------------------------- -------- 32.2/41.0 MB 22.3 MB/s eta 0:00:01\n",
      "   ------------------------------------ --- 37.0/41.0 MB 22.4 MB/s eta 0:00:01\n",
      "   ---------------------------------------  40.9/41.0 MB 22.4 MB/s eta 0:00:01\n",
      "   ---------------------------------------- 41.0/41.0 MB 21.0 MB/s eta 0:00:00\n",
      "Downloading threadpoolctl-3.6.0-py3-none-any.whl (18 kB)\n",
      "Installing collected packages: threadpoolctl, scipy, joblib, scikit-learn\n",
      "Successfully installed joblib-1.5.1 scikit-learn-1.7.0 scipy-1.15.3 threadpoolctl-3.6.0\n",
      "Note: you may need to restart the kernel to use updated packages.\n"
     ]
    },
    {
     "name": "stderr",
     "output_type": "stream",
     "text": [
      "\n",
      "[notice] A new release of pip is available: 24.3.1 -> 25.1.1\n",
      "[notice] To update, run: python.exe -m pip install --upgrade pip\n"
     ]
    }
   ],
   "source": [
    "pip install scikit-learn"
   ]
  },
  {
   "cell_type": "code",
   "execution_count": null,
   "id": "956b91ea",
   "metadata": {},
   "outputs": [
    {
     "name": "stdout",
     "output_type": "stream",
     "text": [
      "Model Coefficients (slopes for each feature): [-0.17578678  0.0044532   0.23803781 -0.00032879 -0.00044213  0.00217587]\n",
      "Model Intercept (bias term): -1.0738468853039653\n",
      "\n",
      "Linear Regression Model Evaluation Metrics:\n",
      "R-squared (R²): 0.998550 — How well the model explains the variance.\n",
      "Mean Absolute Error (MAE): 0.025839 — Average absolute difference between prediction and actual.\n",
      "Mean Squared Error (MSE): 0.001630 — Penalizes larger errors more.\n",
      "Root Mean Squared Error (RMSE): 0.040368 — Standard deviation of prediction error.\n"
     ]
    }
   ],
   "source": [
    "\n",
    "from sklearn.linear_model import LinearRegression\n",
    "from sklearn.metrics import r2_score, mean_absolute_error, mean_squared_error\n",
    "import numpy as np\n",
    "\n",
    "#  Initialize the Linear Regression model\n",
    "linear_model = LinearRegression()\n",
    "\n",
    "#  Train the model on the training dataset\n",
    "linear_model.fit(X_train, y_train)\n",
    "\n",
    "#  Display model coefficients and intercept\n",
    "print(\"Model Coefficients (slopes for each feature):\", linear_model.coef_)\n",
    "print(\"Model Intercept (bias term):\", linear_model.intercept_)\n",
    "\n",
    "#  Predict on test data\n",
    "y_pred = linear_model.predict(X_test)\n",
    "\n",
    "#  Evaluate the model\n",
    "r2 = r2_score(y_test, y_pred)\n",
    "mae = mean_absolute_error(y_test, y_pred)\n",
    "mse = mean_squared_error(y_test, y_pred)\n",
    "rmse = np.sqrt(mse)\n",
    "\n",
    "#  Print all metrics with explanation\n",
    "print(\"\\nLinear Regression Model Evaluation Metrics:\")\n",
    "print(f\"R-squared (R²): {r2:.6f} — How well the model explains the variance.\")\n",
    "print(f\"Mean Absolute Error (MAE): {mae:.6f} — Average absolute difference between prediction and actual.\")  # it will print only 6 decimal \n",
    "print(f\"Mean Squared Error (MSE): {mse:.6f} — Penalizes larger errors more.\")\n",
    "print(f\"Root Mean Squared Error (RMSE): {rmse:.6f} — Standard deviation of prediction error.\")\n"
   ]
  },
  {
   "cell_type": "code",
   "execution_count": 29,
   "id": "1c719e0e",
   "metadata": {},
   "outputs": [
    {
     "name": "stdout",
     "output_type": "stream",
     "text": [
      "Random Forest Regressor Performance:\n",
      " R² Score: 0.9990460990553214\n",
      " MAE (Mean Absolute Error): 0.018627110692698793\n",
      " MSE (Mean Squared Error): 0.0010721307491596914\n",
      " RMSE (Root Mean Squared Error): 0.03274340772063426\n"
     ]
    }
   ],
   "source": [
    "from sklearn.ensemble import RandomForestRegressor\n",
    "from sklearn.metrics import r2_score, mean_absolute_error, mean_squared_error\n",
    "import numpy as np\n",
    "\n",
    "# Step 1: Create and configure the Random Forest Regressor\n",
    "random_forest = RandomForestRegressor(\n",
    "    n_estimators=50,   # Number of trees in the forest\n",
    "    random_state=42,   # For reproducibility\n",
    "    n_jobs=-1          # Use all available cores\n",
    ")\n",
    "\n",
    "# Step 2: Fit the model to training data\n",
    "random_forest.fit(X_train, y_train)\n",
    "\n",
    "# Step 3: Predict the target values for test set\n",
    "rf_predictions = random_forest.predict(X_test)\n",
    "\n",
    "# Step 4: Calculate evaluation metrics\n",
    "r2_rf = r2_score(y_test, rf_predictions)\n",
    "mae_rf = mean_absolute_error(y_test, rf_predictions)\n",
    "mse_rf = mean_squared_error(y_test, rf_predictions)\n",
    "rmse_rf = np.sqrt(mse_rf)\n",
    "\n",
    "# Step 5: Display evaluation results\n",
    "\n",
    "print(f\"Random Forest Regressor Performance:\")\n",
    "print(f\" R² Score: {r2_rf}\")\n",
    "print(f\" MAE (Mean Absolute Error): {mae_rf}\")\n",
    "print(f\" MSE (Mean Squared Error): {mse_rf}\")\n",
    "print(f\" RMSE (Root Mean Squared Error): {rmse_rf}\")\n"
   ]
  },
  {
   "cell_type": "code",
   "execution_count": null,
   "id": "51eabdf1",
   "metadata": {},
   "outputs": [],
   "source": [
    "from sklearn.model_selection import GridSearchCV   # hyperparameter tunning teechnique use to find best combination fr mach lrning,to improve performance\n",
    "\n",
    "# Step 1: Define the parameter grid to search   \n",
    "param_options = {\n",
    "    'n_estimators': [50, 100, 150],  #no of trees in the forest\n",
    "    'max_depth': [None, 10, 20],   #max depth of each tree\n",
    "    'min_samples_split': [2, 5],    #mini samples to split internal node\n",
    "    'min_samples_leaf': [1, 2]   #mini sample required at leaf node\n",
    "}\n",
    "\n",
    "# Step 2: Initialize GridSearchCV with the Random Forest Regressor\n",
    "rf_grid_search = GridSearchCV(\n",
    "    estimator=RandomForestRegressor(random_state=42),\n",
    "    param_grid=param_options,\n",
    "    cv=3,                                  # cv=3 ,cross validation,dataset split into 3 parts 2 part fr training and 1 fr test and this happns 3 timeswith diff data set,helps to prevnt overfitting and gvs more reliable score\n",
    "    scoring='neg_mean_squared_error', # evalute the model performance,#aftr  grid search may multiply the result  by -1 to get the real value of mse\n",
    "    n_jobs=-1,                         #it  tell scikit to use all available cpu score to use ,to run thetraining evaluton of diff paramtr to make it faster\n",
    "    verbose=1                   #while grid search is running we can see the output,0  na no outpt,1 na show progress for each fit,2 na more detailed info for every fold\n",
    ")\n",
    "\n",
    "# Step 3: Fit the grid search to the training data\n",
    "rf_grid_search.fit(X_train, y_train)\n",
    "\n",
    "# Step 4: Extract the best model from the grid search\n",
    "optimized_rf_model = rf_grid_search.best_estimator_\n",
    "\n",
    "# Optional: Display the best parameters\n",
    "print(\"\\n Best Parameters Found:\", rf_grid_search.best_params_)   #65 minutes run \n",
    "\n",
    "\n",
    "\n",
    "\n",
    "#output :Fitting 3 folds for each of 36 candidates, totalling 108 fits   #65 minutes run &105mint\n"
   ]
  },
  {
   "cell_type": "code",
   "execution_count": 27,
   "id": "95cf4c3a",
   "metadata": {},
   "outputs": [
    {
     "name": "stdout",
     "output_type": "stream",
     "text": [
      "\n",
      "Gradient Boosting Model Evaluation:\n",
      "R² Score: 0.9984765944\n",
      "Mean Absolute Error (MAE): 0.026545717318895067\n",
      "Mean Squared Error (MSE): 0.0017122217671214825\n",
      "Root Mean Squared Error (RMSE): 0.04137900152397932\n"
     ]
    }
   ],
   "source": [
    "from sklearn.ensemble import GradientBoostingRegressor\n",
    "from sklearn.metrics import r2_score, mean_absolute_error, mean_squared_error\n",
    "import numpy as np\n",
    "\n",
    "# Initialize and train model\n",
    "gb_model = GradientBoostingRegressor(n_estimators=50)\n",
    "gb_model.fit(X_train, y_train)\n",
    "\n",
    "# Predict\n",
    "y_pred = gb_model.predict(X_test)\n",
    "\n",
    "# Evaluation metrics\n",
    "r2 = r2_score(y_test, y_pred)\n",
    "mae = mean_absolute_error(y_test, y_pred)\n",
    "mse = mean_squared_error(y_test, y_pred)\n",
    "rmse = np.sqrt(mse)\n",
    "\n",
    "# Print results\n",
    "print(\"\\nGradient Boosting Model Evaluation:\")\n",
    "print(f\"R² Score: {r2:.10f}\")\n",
    "print(f\"Mean Absolute Error (MAE): {mae:}\")\n",
    "print(f\"Mean Squared Error (MSE): {mse:}\")\n",
    "print(f\"Root Mean Squared Error (RMSE): {rmse:}\")\n"
   ]
  },
  {
   "cell_type": "code",
   "execution_count": 36,
   "id": "8daaf593",
   "metadata": {},
   "outputs": [
    {
     "name": "stdout",
     "output_type": "stream",
     "text": [
      "\n",
      "Neural Network (MLPRegressor) Model Evaluation:\n",
      "R² Score: 0.99841449065525\n",
      "Mean Absolute Error: 0.030211403450186438\n",
      "Mean Squared Error: 0.0017820228935398633\n",
      "Root Mean Squared Error: 0.042214012999712114\n"
     ]
    }
   ],
   "source": [
    "from sklearn.neural_network import MLPRegressor\n",
    "from sklearn.metrics import r2_score, mean_absolute_error, mean_squared_error\n",
    "import numpy as np\n",
    "\n",
    "# Define and train the MLP model\n",
    "nn_model = MLPRegressor(hidden_layer_sizes=(50,), max_iter=1000, random_state=42)\n",
    "nn_model.fit(X_train, y_train)\n",
    "\n",
    "# Make predictions on the test set\n",
    "y_nn_pred = nn_model.predict(X_test)\n",
    "\n",
    "# Calculate performance metrics\n",
    "r2_nn = r2_score(y_test, y_nn_pred)\n",
    "mae_nn = mean_absolute_error(y_test, y_nn_pred)\n",
    "mse_nn = mean_squared_error(y_test, y_nn_pred)\n",
    "rmse_nn = np.sqrt(mse_nn)\n",
    "\n",
    "# Display the results\n",
    "print(\"\\nNeural Network (MLPRegressor) Model Evaluation:\")\n",
    "print(f\"R² Score: {r2_nn:}\")\n",
    "print(f\"Mean Absolute Error: {mae_nn:}\")\n",
    "print(f\"Mean Squared Error: {mse_nn:}\")\n",
    "print(f\"Root Mean Squared Error: {rmse_nn:}\")\n"
   ]
  }
 ],
 "metadata": {
  "kernelspec": {
   "display_name": "Python 3",
   "language": "python",
   "name": "python3"
  },
  "language_info": {
   "codemirror_mode": {
    "name": "ipython",
    "version": 3
   },
   "file_extension": ".py",
   "mimetype": "text/x-python",
   "name": "python",
   "nbconvert_exporter": "python",
   "pygments_lexer": "ipython3",
   "version": "3.12.8"
  }
 },
 "nbformat": 4,
 "nbformat_minor": 5
}
